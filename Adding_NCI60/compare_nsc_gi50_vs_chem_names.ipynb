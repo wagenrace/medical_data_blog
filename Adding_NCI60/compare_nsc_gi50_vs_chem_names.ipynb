{
 "cells": [
  {
   "cell_type": "code",
   "execution_count": 1,
   "metadata": {},
   "outputs": [],
   "source": [
    "import pandas as pd\n",
    "from os.path import join as path_join"
   ]
  },
  {
   "cell_type": "code",
   "execution_count": 2,
   "metadata": {},
   "outputs": [
    {
     "name": "stdout",
     "output_type": "stream",
     "text": [
      "GI50 has shape (4547757, 14)\n",
      "Chem names has shape (251887, 3)\n"
     ]
    }
   ],
   "source": [
    "GI50 = pd.read_csv(path_join(\"data\", \"GI50.csv\"))\n",
    "chem_names = pd.read_csv(\n",
    "    path_join(\"data\", \"chemnames_Aug2013.txt\"),\n",
    "    \"|\",\n",
    "    header=None,\n",
    "    names=[\"NSC\", \"Name\", \"Name Type\"],\n",
    ")\n",
    "print(f\"GI50 has shape {GI50.shape}\")\n",
    "print(f\"Chem names has shape {chem_names.shape}\")"
   ]
  },
  {
   "cell_type": "code",
   "execution_count": 3,
   "metadata": {},
   "outputs": [],
   "source": [
    "all_gi50_nsc = GI50[\"NSC\"].unique()\n",
    "all_chem_names_nsc = chem_names[\"NSC\"].unique()"
   ]
  },
  {
   "cell_type": "code",
   "execution_count": 4,
   "metadata": {},
   "outputs": [
    {
     "name": "stdout",
     "output_type": "stream",
     "text": [
      "GI50 has 56220 unique NSC number\n",
      "All chem names 67534 unique NSC number\n"
     ]
    }
   ],
   "source": [
    "print(f\"GI50 has {all_gi50_nsc.size} unique NSC number\")\n",
    "print(f\"All chem names {all_chem_names_nsc.size} unique NSC number\")"
   ]
  },
  {
   "cell_type": "markdown",
   "metadata": {},
   "source": [
    "Comparing the NSC number between all chem names and GI50 gives us a list of 13,159 NSC number that appear in both of them. This of the 56,220 NSC number in GI50 means we 76.6% of all experiments can not be used because of missing mapping."
   ]
  },
  {
   "cell_type": "code",
   "execution_count": 5,
   "metadata": {},
   "outputs": [
    {
     "name": "stdout",
     "output_type": "stream",
     "text": [
      "GI50 has 43061 number not in chem names\n",
      "A total of 13159 NSC numbers are in both\n"
     ]
    }
   ],
   "source": [
    "only_gi50 = list(set(all_gi50_nsc) - set(all_chem_names_nsc))\n",
    "print(f\"GI50 has {len(only_gi50)} number not in chem names\")\n",
    "gi50_chem_names = list(set(all_gi50_nsc) - set(only_gi50))\n",
    "print(f\"A total of {len(gi50_chem_names)} NSC numbers are in both\")"
   ]
  },
  {
   "cell_type": "code",
   "execution_count": 6,
   "metadata": {},
   "outputs": [
    {
     "name": "stdout",
     "output_type": "stream",
     "text": [
      "Filtered chem names has shape (39120, 3)\n"
     ]
    },
    {
     "data": {
      "text/html": [
       "<div>\n",
       "<style scoped>\n",
       "    .dataframe tbody tr th:only-of-type {\n",
       "        vertical-align: middle;\n",
       "    }\n",
       "\n",
       "    .dataframe tbody tr th {\n",
       "        vertical-align: top;\n",
       "    }\n",
       "\n",
       "    .dataframe thead th {\n",
       "        text-align: right;\n",
       "    }\n",
       "</style>\n",
       "<table border=\"1\" class=\"dataframe\">\n",
       "  <thead>\n",
       "    <tr style=\"text-align: right;\">\n",
       "      <th></th>\n",
       "      <th>NSC</th>\n",
       "      <th>Name</th>\n",
       "      <th>Name Type</th>\n",
       "    </tr>\n",
       "  </thead>\n",
       "  <tbody>\n",
       "    <tr>\n",
       "      <th>0</th>\n",
       "      <td>1</td>\n",
       "      <td>Tolylquinone</td>\n",
       "      <td>Chemical Name</td>\n",
       "    </tr>\n",
       "    <tr>\n",
       "      <th>1</th>\n",
       "      <td>1</td>\n",
       "      <td>p-Toluquinone</td>\n",
       "      <td>Chemical Name</td>\n",
       "    </tr>\n",
       "    <tr>\n",
       "      <th>2</th>\n",
       "      <td>1</td>\n",
       "      <td>Methylquinone</td>\n",
       "      <td>Chemical Name</td>\n",
       "    </tr>\n",
       "    <tr>\n",
       "      <th>3</th>\n",
       "      <td>1</td>\n",
       "      <td>1,4-Toluquinone</td>\n",
       "      <td>Chemical Name</td>\n",
       "    </tr>\n",
       "    <tr>\n",
       "      <th>4</th>\n",
       "      <td>1</td>\n",
       "      <td>2-Methylquinone</td>\n",
       "      <td>Chemical Name</td>\n",
       "    </tr>\n",
       "  </tbody>\n",
       "</table>\n",
       "</div>"
      ],
      "text/plain": [
       "   NSC             Name      Name Type\n",
       "0    1     Tolylquinone  Chemical Name\n",
       "1    1    p-Toluquinone  Chemical Name\n",
       "2    1    Methylquinone  Chemical Name\n",
       "3    1  1,4-Toluquinone  Chemical Name\n",
       "4    1  2-Methylquinone  Chemical Name"
      ]
     },
     "execution_count": 6,
     "metadata": {},
     "output_type": "execute_result"
    }
   ],
   "source": [
    "filtered_names = chem_names.loc[chem_names[\"NSC\"].isin(gi50_chem_names)]\n",
    "print(f\"Filtered chem names has shape {filtered_names.shape}\")\n",
    "filtered_names.to_csv(path_join(\"data\", \"filtered_chemnames_Aug2013.csv\"))\n",
    "filtered_names.head()"
   ]
  }
 ],
 "metadata": {
  "interpreter": {
   "hash": "5a65898d9afe7feef45c0548669435e491dfaa9e6daeaa24f8c3d10102560614"
  },
  "kernelspec": {
   "display_name": "Python 3.7.10 ('empty')",
   "language": "python",
   "name": "python3"
  },
  "language_info": {
   "codemirror_mode": {
    "name": "ipython",
    "version": 3
   },
   "file_extension": ".py",
   "mimetype": "text/x-python",
   "name": "python",
   "nbconvert_exporter": "python",
   "pygments_lexer": "ipython3",
   "version": "3.7.10"
  },
  "orig_nbformat": 4
 },
 "nbformat": 4,
 "nbformat_minor": 2
}
