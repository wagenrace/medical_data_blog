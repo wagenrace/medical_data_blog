{
 "cells": [
  {
   "cell_type": "code",
   "execution_count": 1,
   "metadata": {},
   "outputs": [],
   "source": [
    "import pandas as pd\n",
    "from os.path import join as path_join"
   ]
  },
  {
   "cell_type": "code",
   "execution_count": 2,
   "metadata": {},
   "outputs": [
    {
     "name": "stdout",
     "output_type": "stream",
     "text": [
      "GI50 has shape (4547757, 14)\n",
      "Chem names has shape (251887, 3)\n",
      "PubChem NSC (3729858, 3)\n"
     ]
    }
   ],
   "source": [
    "GI50 = pd.read_csv(path_join(\"data\", \"GI50.csv\"))\n",
    "chem_names = pd.read_csv(\n",
    "    path_join(\"data\", \"chemnames_Aug2013.txt\"),\n",
    "    \"|\",\n",
    "    header=None,\n",
    "    names=[\"NSC\", \"Name\", \"Name Type\"],\n",
    ")\n",
    "pubchem_chem_names = pd.read_csv(path_join(\"nsc_from_pubchem\", \"results\", \"nsc2synonym.csv\"))\n",
    "\n",
    "print(f\"GI50 has shape {GI50.shape}\")\n",
    "print(f\"Chem names has shape {chem_names.shape}\")\n",
    "print(f\"PubChem NSC {pubchem_chem_names.shape}\")"
   ]
  },
  {
   "cell_type": "code",
   "execution_count": 3,
   "metadata": {},
   "outputs": [],
   "source": [
    "all_gi50_nsc = GI50[\"NSC\"].unique()\n",
    "all_chem_names_nsc = chem_names[\"NSC\"].unique()\n",
    "all_pubchem_nsc = pubchem_chem_names[\"NSC\"].unique()"
   ]
  },
  {
   "cell_type": "code",
   "execution_count": 4,
   "metadata": {},
   "outputs": [
    {
     "name": "stdout",
     "output_type": "stream",
     "text": [
      "GI50 has 56220 unique NSC number\n",
      "Chem names 2013 has 67534 unique NSC number\n",
      "Pubchem has 296385 unique NSC number\n"
     ]
    }
   ],
   "source": [
    "print(f\"GI50 has {all_gi50_nsc.size} unique NSC number\")\n",
    "print(f\"Chem names 2013 has {all_chem_names_nsc.size} unique NSC number\")\n",
    "print(f\"Pubchem has {all_pubchem_nsc.size} unique NSC number\")"
   ]
  },
  {
   "cell_type": "markdown",
   "metadata": {},
   "source": [
    "Comparing the NSC number between all chem names and GI50 gives us a list of 13,159 NSC number that appear in both of them. This of the 56,220 NSC number in GI50 means we 76.6% of all experiments can not be used because of missing mapping."
   ]
  },
  {
   "cell_type": "code",
   "execution_count": 5,
   "metadata": {},
   "outputs": [
    {
     "name": "stdout",
     "output_type": "stream",
     "text": [
      "GI50 has 43061 number not in chem names\n",
      "A total of 13159 NSC numbers are in both\n"
     ]
    }
   ],
   "source": [
    "only_gi50 = list(set(all_gi50_nsc) - set(all_chem_names_nsc))\n",
    "print(f\"GI50 has {len(only_gi50)} number not in chem names\")\n",
    "gi50_chem_names = list(set(all_gi50_nsc) - set(only_gi50))\n",
    "print(f\"A total of {len(gi50_chem_names)} NSC numbers are in both\")"
   ]
  },
  {
   "cell_type": "markdown",
   "metadata": {},
   "source": [
    "But comparing it to pubchem NSC number we only find 2.3% to be missed. "
   ]
  },
  {
   "cell_type": "code",
   "execution_count": 6,
   "metadata": {},
   "outputs": [
    {
     "name": "stdout",
     "output_type": "stream",
     "text": [
      "GI50 has 1269 number not in pubchem\n",
      "A total of 54951 NSC numbers are in both\n"
     ]
    }
   ],
   "source": [
    "only_gi50 = list(set(all_gi50_nsc) - set(all_pubchem_nsc))\n",
    "print(f\"GI50 has {len(only_gi50)} number not in pubchem\")\n",
    "gi50_chem_names = list(set(all_gi50_nsc) - set(only_gi50))\n",
    "print(f\"A total of {len(gi50_chem_names)} NSC numbers are in both\")"
   ]
  },
  {
   "cell_type": "markdown",
   "metadata": {},
   "source": [
    "Combine the two list even reduces it to 1.3%"
   ]
  },
  {
   "cell_type": "code",
   "execution_count": 7,
   "metadata": {},
   "outputs": [
    {
     "name": "stdout",
     "output_type": "stream",
     "text": [
      "GI50 has 736 number not in chem names or pubchem\n",
      "A total of 55484 NSC numbers are in both\n"
     ]
    }
   ],
   "source": [
    "only_gi50 = list(set(all_gi50_nsc) - set(all_chem_names_nsc) - set(all_pubchem_nsc))\n",
    "print(f\"GI50 has {len(only_gi50)} number not in chem names or pubchem\")\n",
    "gi50_chem_names = list(set(all_gi50_nsc) - set(only_gi50))\n",
    "print(f\"A total of {len(gi50_chem_names)} NSC numbers are in both\")"
   ]
  },
  {
   "cell_type": "code",
   "execution_count": 8,
   "metadata": {},
   "outputs": [
    {
     "data": {
      "text/plain": [
       "[811013,\n",
       " 811014,\n",
       " 811015,\n",
       " 114696,\n",
       " 782346,\n",
       " 378895,\n",
       " 378896,\n",
       " 641053,\n",
       " 641054,\n",
       " 641055]"
      ]
     },
     "execution_count": 8,
     "metadata": {},
     "output_type": "execute_result"
    }
   ],
   "source": [
    "only_gi50[:10]"
   ]
  }
 ],
 "metadata": {
  "interpreter": {
   "hash": "5a65898d9afe7feef45c0548669435e491dfaa9e6daeaa24f8c3d10102560614"
  },
  "kernelspec": {
   "display_name": "Python 3.7.10 ('empty')",
   "language": "python",
   "name": "python3"
  },
  "language_info": {
   "codemirror_mode": {
    "name": "ipython",
    "version": 3
   },
   "file_extension": ".py",
   "mimetype": "text/x-python",
   "name": "python",
   "nbconvert_exporter": "python",
   "pygments_lexer": "ipython3",
   "version": "3.7.10"
  },
  "orig_nbformat": 4
 },
 "nbformat": 4,
 "nbformat_minor": 2
}
